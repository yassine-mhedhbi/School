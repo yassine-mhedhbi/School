{
 "cells": [
  {
   "cell_type": "markdown",
   "metadata": {},
   "source": [
    "# Gradient Descent for Regression"
   ]
  },
  {
   "cell_type": "markdown",
   "metadata": {},
   "source": [
    "### 2.1"
   ]
  },
  {
   "cell_type": "code",
   "execution_count": 2,
   "metadata": {
    "collapsed": true
   },
   "outputs": [],
   "source": [
    "import sys\n",
    "import pandas as pd\n",
    "import numpy as np\n",
    "import matplotlib.pyplot as plt"
   ]
  },
  {
   "cell_type": "code",
   "execution_count": 3,
   "metadata": {},
   "outputs": [
    {
     "data": {
      "text/html": [
       "<div>\n",
       "<style>\n",
       "    .dataframe thead tr:only-child th {\n",
       "        text-align: right;\n",
       "    }\n",
       "\n",
       "    .dataframe thead th {\n",
       "        text-align: left;\n",
       "    }\n",
       "\n",
       "    .dataframe tbody tr th {\n",
       "        vertical-align: top;\n",
       "    }\n",
       "</style>\n",
       "<table border=\"1\" class=\"dataframe\">\n",
       "  <thead>\n",
       "    <tr style=\"text-align: right;\">\n",
       "      <th></th>\n",
       "      <th>x</th>\n",
       "      <th>y</th>\n",
       "    </tr>\n",
       "  </thead>\n",
       "  <tbody>\n",
       "    <tr>\n",
       "      <th>0</th>\n",
       "      <td>1.134362</td>\n",
       "      <td>8.755218</td>\n",
       "    </tr>\n",
       "    <tr>\n",
       "      <th>1</th>\n",
       "      <td>0.628288</td>\n",
       "      <td>6.080669</td>\n",
       "    </tr>\n",
       "    <tr>\n",
       "      <th>2</th>\n",
       "      <td>0.914297</td>\n",
       "      <td>7.154124</td>\n",
       "    </tr>\n",
       "    <tr>\n",
       "      <th>3</th>\n",
       "      <td>0.795270</td>\n",
       "      <td>6.725596</td>\n",
       "    </tr>\n",
       "    <tr>\n",
       "      <th>4</th>\n",
       "      <td>1.386819</td>\n",
       "      <td>9.262608</td>\n",
       "    </tr>\n",
       "  </tbody>\n",
       "</table>\n",
       "</div>"
      ],
      "text/plain": [
       "          x         y\n",
       "0  1.134362  8.755218\n",
       "1  0.628288  6.080669\n",
       "2  0.914297  7.154124\n",
       "3  0.795270  6.725596\n",
       "4  1.386819  9.262608"
      ]
     },
     "execution_count": 3,
     "metadata": {},
     "output_type": "execute_result"
    }
   ],
   "source": [
    "# Read the training data \n",
    "data = pd.read_csv(\"Datasets/Dataset_2_train.csv\", header = -1,usecols=range(2))\n",
    "cols = [\"x\",\"y\"]\n",
    "data.columns = cols\n",
    "data.head()\n",
    "\n",
    "    "
   ]
  },
  {
   "cell_type": "code",
   "execution_count": 4,
   "metadata": {},
   "outputs": [
    {
     "data": {
      "text/html": [
       "<div>\n",
       "<style>\n",
       "    .dataframe thead tr:only-child th {\n",
       "        text-align: right;\n",
       "    }\n",
       "\n",
       "    .dataframe thead th {\n",
       "        text-align: left;\n",
       "    }\n",
       "\n",
       "    .dataframe tbody tr th {\n",
       "        vertical-align: top;\n",
       "    }\n",
       "</style>\n",
       "<table border=\"1\" class=\"dataframe\">\n",
       "  <thead>\n",
       "    <tr style=\"text-align: right;\">\n",
       "      <th></th>\n",
       "      <th>x</th>\n",
       "      <th>y</th>\n",
       "    </tr>\n",
       "  </thead>\n",
       "  <tbody>\n",
       "    <tr>\n",
       "      <th>0</th>\n",
       "      <td>0.285947</td>\n",
       "      <td>5.068739</td>\n",
       "    </tr>\n",
       "    <tr>\n",
       "      <th>1</th>\n",
       "      <td>1.115251</td>\n",
       "      <td>8.439574</td>\n",
       "    </tr>\n",
       "    <tr>\n",
       "      <th>2</th>\n",
       "      <td>0.687795</td>\n",
       "      <td>6.351955</td>\n",
       "    </tr>\n",
       "    <tr>\n",
       "      <th>3</th>\n",
       "      <td>0.234410</td>\n",
       "      <td>4.190641</td>\n",
       "    </tr>\n",
       "    <tr>\n",
       "      <th>4</th>\n",
       "      <td>0.501254</td>\n",
       "      <td>5.469572</td>\n",
       "    </tr>\n",
       "  </tbody>\n",
       "</table>\n",
       "</div>"
      ],
      "text/plain": [
       "          x         y\n",
       "0  0.285947  5.068739\n",
       "1  1.115251  8.439574\n",
       "2  0.687795  6.351955\n",
       "3  0.234410  4.190641\n",
       "4  0.501254  5.469572"
      ]
     },
     "execution_count": 4,
     "metadata": {},
     "output_type": "execute_result"
    }
   ],
   "source": [
    "# Read the validation data \n",
    "valid = pd.read_csv(\"Datasets/Dataset_2_valid.csv\", header = -1,usecols=range(2))\n",
    "cols = [\"x\",\"y\"]\n",
    "valid.columns = cols\n",
    "valid.head()\n"
   ]
  },
  {
   "cell_type": "code",
   "execution_count": null,
   "metadata": {},
   "outputs": [
    {
     "data": {
      "image/png": "[encoded data removed]",
      "text/plain": [
       "<matplotlib.figure.Figure at 0x7fb1cd032eb8>"
      ]
     },
     "metadata": {},
     "output_type": "display_data"
    }
   ],
   "source": [
    "# We set our initial alpha at 10^-6\n",
    "alpha = 0.000001\n",
    "MSE_t = []\n",
    "MSE_v = []\n",
    "w0 = 2\n",
    "w1 = 5\n",
    "for i in range(5000):\n",
    "    for x in range(len(data['x'])):\n",
    "        w0 = w0 - alpha*(w1*data['x'][x]+w0 - data['y'][x])\n",
    "        w1 = w1 - alpha*(w1*data['x'][x]+w0 - data['y'][x])*data['x'][x]\n",
    "    \n",
    "    P = np.poly1d([w1,w0])\n",
    "    T = [P(i) for i in data['x']]\n",
    "    V = [P(i) for i in valid['x']]\n",
    "    \n",
    "    sigmat = 0\n",
    "    for i in range(len(T)):\n",
    "        sigmat = sigmat + (T[i] - data['y'][i])**2 \n",
    "    MSE_t = MSE_t + [sigmat/len(T)]\n",
    "    \n",
    "    sigmav = 0\n",
    "    for i in range(len(V)):\n",
    "        sigmav = sigmav + (V[i] - valid['y'][i])**2 \n",
    "    MSE_v = MSE_v + [sigmav/len(V)]\n",
    "    \n",
    "    alpha = alpha + 0.000001\n",
    "    \n",
    "axis = np.arange(1, 5001, 1)\n",
    "\n",
    "plt.figure(figsize=(16, 7))\n",
    "plt.plot(axis, MSE_t, label=\"mse training\")\n",
    "plt.plot(axis, MSE_v, label=\"mse validation\")\n",
    "plt.title(\"mse training vs validation\")\n",
    "plt.xlabel(\"epoch\")\n",
    "plt.ylabel(\"Mse value\")\n",
    "plt.legend()\n",
    "plt.show()\n"
   ]
  },
  {
   "cell_type": "markdown",
   "metadata": {},
   "source": [
    "### 2.2"
   ]
  },
  {
   "cell_type": "code",
   "execution_count": null,
   "metadata": {},
   "outputs": [
    {
     "name": "stderr",
     "output_type": "stream",
     "text": [
      "/home/ymhedh/anaconda3/envs/Assignment1-551/lib/python3.6/site-packages/ipykernel_launcher.py:23: RuntimeWarning: overflow encountered in double_scalars\n",
      "/home/ymhedh/anaconda3/envs/Assignment1-551/lib/python3.6/site-packages/ipykernel_launcher.py:16: RuntimeWarning: overflow encountered in double_scalars\n",
      "  app.launch_new_instance()\n",
      "/home/ymhedh/anaconda3/envs/Assignment1-551/lib/python3.6/site-packages/ipykernel_launcher.py:16: RuntimeWarning: invalid value encountered in double_scalars\n",
      "  app.launch_new_instance()\n",
      "/home/ymhedh/anaconda3/envs/Assignment1-551/lib/python3.6/site-packages/ipykernel_launcher.py:15: RuntimeWarning: overflow encountered in double_scalars\n",
      "  from ipykernel import kernelapp as app\n",
      "/home/ymhedh/anaconda3/envs/Assignment1-551/lib/python3.6/site-packages/ipykernel_launcher.py:15: RuntimeWarning: invalid value encountered in double_scalars\n",
      "  from ipykernel import kernelapp as app\n"
     ]
    }
   ],
   "source": [
    "steps = [1,0.1,0.001,0.0001,0.00001,0.000001,0.0000001,0.00000001,0.000000001]\n",
    "Best = -1\n",
    "# the best alpha\n",
    "B = -1\n",
    "min_mse = sys.maxsize\n",
    "for i in steps:\n",
    "    alpha = i\n",
    "    s = i\n",
    "    MSE_v = []\n",
    "    w0 = 2\n",
    "    w1 = 5\n",
    "    \n",
    "    for j in range(5000):\n",
    "        for x in range(len(data['x'])):\n",
    "            w0 = w0 - alpha*(w1*data['x'][x]+w0 - data['y'][x])\n",
    "            w1 = w1 - alpha*(w1*data['x'][x]+w0 - data['y'][x])*data['x'][x]\n",
    "    \n",
    "        P = np.poly1d([w1,w0])\n",
    "        V = [P(i) for i in valid['x']]\n",
    "    \n",
    "        sigmav = 0\n",
    "        for i in range(len(V)):\n",
    "            sigmav = sigmav + (V[i] - valid['y'][i])**2/len(V) \n",
    "        if (min_mse > sigmav):\n",
    "            min_mse = sigmav\n",
    "            Best = s\n",
    "            B = alpha\n",
    "    \n",
    "        alpha = alpha +s"
   ]
  },
  {
   "cell_type": "code",
   "execution_count": null,
   "metadata": {
    "collapsed": true
   },
   "outputs": [],
   "source": [
    "w0 = 2\n",
    "w1 = 5\n",
    "for x in range(len(data['x'])):\n",
    "        w0 = w0 - B*(w1*data['x'][x]+w0 - data['y'][x])\n",
    "        w1 = w1 - B*(w1*data['x'][x]+w0 - data['y'][x])*data['x'][x]\n",
    "        \n",
    "P = np.poly1d([w1,w0])"
   ]
  },
  {
   "cell_type": "code",
   "execution_count": null,
   "metadata": {},
   "outputs": [],
   "source": [
    "# Read the test data \n",
    "test = pd.read_csv(\"Datasets/Dataset_2_test.csv\", header = -1,usecols=range(2))\n",
    "cols = [\"x\",\"y\"]\n",
    "test.columns = cols\n",
    "\n",
    "TE = [P(i) for i in test['x']]\n",
    "\n",
    "test_mse = 0\n",
    "for i in range(len(TE)):\n",
    "    test_mse = test_mse + (TE[i] - test['y'][i])**2/len(TE)\n",
    "\n",
    "print(test_mse)"
   ]
  },
  {
   "cell_type": "code",
   "execution_count": null,
   "metadata": {},
   "outputs": [],
   "source": [
    "step = [1,2,50,100]\n",
    "data = pd.read_csv(\"Datasets/Dataset_2_train.csv\", header = -1,usecols=range(2))\n",
    "cols = [\"x\",\"y\"]\n",
    "data.columns = cols\n",
    "data.head()\n",
    "axis = np.arange(-1,1 ,0.001)\n",
    "for k in step:\n",
    "    i = k*B\n",
    "    for x in range(len(data['x'])):\n",
    "        w0 = w0 - i*(w1*data['x'][x]+w0 - data['y'][x])\n",
    "        w1 = w1 - i*(w1*data['x'][x]+w0 - data['y'][x])*data['x'][x]\n",
    "    P = np.poly1d([w1,w0])  \n",
    "    T=[P(i) for i in axis]\n",
    "    \n",
    "    plt.figure(figsize=(16, 7))\n",
    "    plt.plot(axis, T, label=\"curve fit\")\n",
    "    plt.scatter(data['x'], data['y'], label=\"Training data\")\n",
    "    plt.title(\"values for alpha:=\"+str(i)\n",
    "    plt.xlabel(\"x\")\n",
    "    plt.ylabel(\"y\")\n",
    "    plt.legend()\n",
    "    plt.show()\n",
    "\n",
    "\n",
    "\n"
   ]
  },
  {
   "cell_type": "code",
   "execution_count": null,
   "metadata": {
    "collapsed": true
   },
   "outputs": [],
   "source": []
  },
  {
   "cell_type": "code",
   "execution_count": null,
   "metadata": {
    "collapsed": true
   },
   "outputs": [],
   "source": []
  }
 ],
 "metadata": {
  "kernelspec": {
   "display_name": "Python 3",
   "language": "python",
   "name": "python3"
  },
  "language_info": {
   "codemirror_mode": {
    "name": "ipython",
    "version": 3
   },
   "file_extension": ".py",
   "mimetype": "text/x-python",
   "name": "python",
   "nbconvert_exporter": "python",
   "pygments_lexer": "ipython3",
   "version": "3.6.3"
  }
 },
 "nbformat": 4,
 "nbformat_minor": 2
}
