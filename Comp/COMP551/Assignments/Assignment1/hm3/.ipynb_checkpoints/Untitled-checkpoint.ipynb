{
 "cells": [
  {
   "cell_type": "code",
   "execution_count": 1,
   "metadata": {
    "collapsed": true
   },
   "outputs": [],
   "source": [
    "import numpy as np\n",
    "import pandas as pd\n",
    "from collections import Counter\n",
    "import csv\n",
    "import string"
   ]
  },
  {
   "cell_type": "code",
   "execution_count": 2,
   "metadata": {
    "collapsed": true
   },
   "outputs": [],
   "source": [
    "def bagofword(words,data,mode):\n",
    "\tl=np.zeros((len(data),10000))\n",
    "\tcount=0;\n",
    "\tfor lines in data:\n",
    "\t\tind = 0\n",
    "\t\tfor w in words:\n",
    "\t\t\tif(w in lines):\n",
    "\t\t\t\tl[count][ind]=1\n",
    "\t\t\tind+=1\n",
    "\t\tcount+=1\n",
    "\treturn l\n",
    "\n",
    "table = {ord(char): None for char in string.punctuation}\n",
    "# first we get the top 10k words for IMDB\n",
    "T = open(\"Datasets/IMDB-train.txt\",\"r\").read().translate(table).lower()\n",
    "Text = T.split(\" \")\n",
    "\n",
    "IMDB_top = Counter(Text).most_common(10000)\n",
    "dic_i = dict(IMDB_top)\n",
    "\n",
    "#print(IMDB_top)\n",
    "\n",
    "# first we get the top 10k words for yelp\n",
    "R = open(\"Datasets/yelp-train.txt\",\"r\").read().translate(table).lower()\n",
    "Text = R.split(\" \")\n",
    "yelp_top = Counter(Text).most_common(10000)\n",
    "dic_y = dict(yelp_top)\n",
    "A = {}\n",
    "i = 0\n",
    "for k in dic_y:\n",
    "    A[k] = i\n",
    "    i+= 1\n",
    "\n",
    "imdb_v = open(\"IMDB-vocab.txt\",\"a\")\n",
    "for i in range(10000):\n",
    "\tline = str(i+1) + \"\\t\" + IMDB_top[i][0] + \"\\t\" + str(IMDB_top[i][1]) + \"\\n\"\n",
    "\timdb_v.write(line)\n",
    "\n",
    "yelp_v = open(\"yelp-vocab.txt\",\"a\")\n",
    "for i in range(10000):\n",
    "\tline = str(i+1) + \"\\t\" + yelp_top[i][0] + \"\\t\" + str(yelp_top[i][1]) + \"\\n\"\n",
    "\tyelp_v.write(line)\n",
    "\n",
    "# ----------------- done with vocab.txt files ---------------------------------------#\n",
    "\n",
    "words_i = [i[0] for i in IMDB_top]\n",
    "words_y = [i[0] for i in yelp_top]\n",
    "\n",
    "\n"
   ]
  },
  {
   "cell_type": "code",
   "execution_count": 3,
   "metadata": {
    "collapsed": true
   },
   "outputs": [],
   "source": [
    "def result(p,out,k):\n",
    "    positive = []\n",
    "    negative = []\n",
    "    \n",
    "    true_positive = 0\n",
    "    false_positive = 0\n",
    "    true_negative = 0\n",
    "    false_negative = 0    \n",
    "    \n",
    "    \n",
    "    for i in range(0,len(p)):\n",
    "        if (p[i] == k and out[i] ==k):\n",
    "            true_positive += 1\n",
    "            \n",
    "        elif (p[i] == k and out[i] !=k):\n",
    "            false_positive += 1\n",
    "            \n",
    "        elif (p[i] != k and out[i] ==k):\n",
    "            false_negative +=1\n",
    "            \n",
    "        elif (p[i] != k and out[i] !=k):\n",
    "            true_negative += 1        \n",
    "            \n",
    "    positive = positive + [(true_positive, false_positive)]\n",
    "    negative = negative + [(false_negative, true_negative)]\n",
    "    \n",
    "    return positive,negative"
   ]
  },
  {
   "cell_type": "code",
   "execution_count": 4,
   "metadata": {
    "collapsed": true
   },
   "outputs": [],
   "source": [
    "from sklearn.naive_bayes import BernoulliNB\n",
    "import scipy.sparse as sps\n",
    "from sklearn import tree\n",
    "from sklearn.naive_bayes import GaussianNB"
   ]
  },
  {
   "cell_type": "code",
   "execution_count": 5,
   "metadata": {
    "collapsed": true
   },
   "outputs": [],
   "source": [
    "from sklearn.svm import LinearSVC\n",
    "from collections import Counter\n",
    "import string\n",
    "import operator\n",
    "\n",
    "from scipy.sparse import csr_matrix\n",
    "from scipy.sparse import vstack\n",
    "from scipy.sparse import hstack"
   ]
  },
  {
   "cell_type": "code",
   "execution_count": 6,
   "metadata": {
    "collapsed": true
   },
   "outputs": [],
   "source": [
    "#T = str.maketrans(\"\", \"\", string.punctuation)\n",
    "\n",
    "def bagofwords(data,words):\n",
    "    frequency = csr_matrix((0,10000))\n",
    "    binary = csr_matrix((0,10000))\n",
    "    for j in data:\n",
    "        temp_freq = []\n",
    "        temp_binary = []\n",
    "        \n",
    "        for word in words:\n",
    "            count = j.split(\" \").count(word)\n",
    "            temp_freq.append(count)\n",
    "            if count > 0:\n",
    "                temp_binary.append(1)\n",
    "            else:\n",
    "                temp_binary.append(count)\n",
    "        \n",
    "        if sum(temp_freq) != 0:    \n",
    "            temp_freq = [i/sum(temp_freq) for i in temp_freq]   \n",
    "            \n",
    "\n",
    "        temp_freq = csr_matrix(temp_freq)\n",
    "        temp_binary = csr_matrix(temp_binary)\n",
    "        frequency = vstack((frequency,temp_freq))\n",
    "        binary = vstack((binary,temp_binary))\n",
    "        \n",
    "    return frequency, binary\n",
    "\n",
    "imdb_train_x = []\n",
    "imdb_train_y = []\n",
    "f = open(\"Datasets/IMDB-train.txt\",\"r\").read().translate(table).lower()\n",
    "x = f.split(\"\\n\")\n",
    "c = 0\n",
    "for i in range(len(x)-1):\n",
    "    a = x[i].split(\"\\t\")\n",
    "    imdb_train_x = imdb_train_x + [a[0]]\n",
    "    imdb_train_y = imdb_train_y + [int(a[1])]\n",
    "                        \n",
    "imdb_valid_x = []\n",
    "imdb_valid_y = []\n",
    "f = open(\"Datasets/IMDB-valid.txt\",\"r\").read().translate(table).lower()\n",
    "x = f.split(\"\\n\")\n",
    "for i in range(len(x)-1):\n",
    "    a = x[i].split(\"\\t\")\n",
    "    imdb_valid_x = imdb_valid_x + [a[0]]\n",
    "    imdb_valid_y = imdb_valid_y + [int(a[1])]\n",
    "                        \n",
    "imdb_test_x = []\n",
    "imdb_test_y = []\n",
    "f = open(\"Datasets/IMDB-test.txt\",\"r\").read().translate(table).lower()\n",
    "x = f.split(\"\\n\")\n",
    "for i in range(len(x)-1):\n",
    "    a = x[i].split(\"\\t\")\n",
    "    imdb_test_x = imdb_test_x + [a[0]]\n",
    "    imdb_test_y = imdb_test_y + [int(a[1])]\n",
    "\n",
    "\n",
    "\n",
    "yelp_train_x = []\n",
    "yelp_train_y = []\n",
    "f = open(\"Datasets/yelp-train.txt\",\"r\").read().translate(table).lower()\n",
    "x = f.split(\"\\n\")\n",
    "for i in range(len(x)-1):\n",
    "    a = x[i].split(\"\\t\")\n",
    "    yelp_train_x = yelp_train_x + [a[0]]\n",
    "    yelp_train_y = yelp_train_y + [int(a[1])]\n",
    "                        \n",
    "yelp_valid_x = []\n",
    "yelp_valid_y = []\n",
    "f = open(\"Datasets/yelp-valid.txt\",\"r\").read().translate(table).lower()\n",
    "x = f.split(\"\\n\")\n",
    "for i in range(len(x)-1):\n",
    "    a = x[i].split(\"\\t\")\n",
    "    yelp_valid_x = yelp_valid_x + [a[0]]\n",
    "    yelp_valid_y = yelp_valid_y + [int(a[1])]\n",
    "                        \n",
    "yelp_test_x = []\n",
    "yelp_test_y = []\n",
    "f = open(\"Datasets/yelp-test.txt\",\"r\").read().translate(table).lower()\n",
    "x = f.split(\"\\n\")\n",
    "for i in range(len(x)-1):\n",
    "    a = x[i].split(\"\\t\")\n",
    "    yelp_test_x = yelp_test_x + [a[0]]\n",
    "    yelp_test_y = yelp_test_y + [int(a[1])]\n",
    "                    \n",
    "                      \n",
    "\n",
    "\n",
    "\n",
    "\n",
    "\n",
    "\n",
    "\n"
   ]
  },
  {
   "cell_type": "code",
   "execution_count": 13,
   "metadata": {
    "collapsed": true
   },
   "outputs": [],
   "source": [
    "k = open(\"Datasets/IMDB-valid.txt\",\"r\").read()\n",
    "k = k.translate(table).lower()\n",
    "Text = k.split(\" \")\n",
    "Max = Counter(Text).most_common(10000)\n",
    "words_i_v = [i[0] for i in Max]\n",
    "dic_i_v = dict(Max)\n",
    "\n",
    "\n",
    "\n",
    "l = open(\"Datasets/IMDB-test.txt\",\"r\").read()\n",
    "l = l.translate(table).lower()\n",
    "Text = l.split(\" \")\n",
    "Max = Counter(Text).most_common(10000)\n",
    "words_i_t = [i[0] for i in Max]\n",
    "dic_i_t = dict(Max)\n",
    "\n",
    "m = open(\"Datasets/yelp-valid.txt\",\"r\").read()\n",
    "m = m.translate(table).lower()\n",
    "Text = m.split(\" \")\n",
    "Max = Counter(Text).most_common(10000)\n",
    "words_y_v = [i[0] for i in Max]\n",
    "dic_y_v = dict(Max)\n",
    "B = {}\n",
    "i = 0\n",
    "for k in dic_y:\n",
    "    B[k] = i\n",
    "    i+= 1\n",
    "n = open(\"Datasets/yelp-test.txt\",\"r\").read()\n",
    "n = n.translate(table).lower()\n",
    "Text = l.split(\" \")\n",
    "Max = Counter(Text).most_common(10000)\n",
    "words_y_t = [i[0] for i in Max]\n",
    "dic_y_t = dict(Max)\n",
    "\n",
    "C = {}\n",
    "i = 0\n",
    "for k in dic_y:\n",
    "    C[k] = i\n",
    "    i+= 1\n",
    "\n",
    "\n"
   ]
  },
  {
   "cell_type": "code",
   "execution_count": 15,
   "metadata": {},
   "outputs": [],
   "source": [
    "def bagofwords(data, dic,w):\n",
    "    DM_binary = []\n",
    "    DM_frequency = []\n",
    "    for x in data:\n",
    "        vector_binary = np.zeros(len(dic))\n",
    "        vector_frequency = np.zeros(len(dic))\n",
    "        for y in x:\n",
    "            if y in dic:\n",
    "                index = w[y]\n",
    "                if (vector_binary[index] == 0):\n",
    "                    vector_binary[index] = 1\n",
    "                vector_frequency[index] += 1                \n",
    "        DM_binary.append(vector_binary)\n",
    "        DM_frequency.append(vector_frequency)   \n",
    "    return DM_frequency, DM_binary\n",
    "\n",
    "def performance(p,out):\n",
    "    tp = 0\n",
    "    fp = 0\n",
    "    fn = 0\n",
    "    tn = 0\n",
    "    true_negative_total = 0\n",
    "    false_negative_total = 0\n",
    "    pos = []\n",
    "    neg = []\n",
    "    \n",
    "    for i in range(0,5):\n",
    "        temp_pos = result(p,out,i)[0]\n",
    "        temp_neg = result(p,out,i)[1]\n",
    "        tp += temp_pos[0][0]\n",
    "        fp += temp_pos[0][1]\n",
    "        fn += temp_neg[0][0]\n",
    "        tn += temp_neg[0][1]\n",
    "    pos = pos + [(tp, fp)]\n",
    "    neg = neg + [(fn, tn)]\n",
    "    \n",
    "    #accuracy = (pos[0][0])+(neg[0][1] / pos[0][1])\n",
    "    precision = (pos[0][0])/(pos[0][0] + pos[0][1])\n",
    "    recall = (pos[0][0])/(pos[0][0] + neg[0][0])\n",
    "    F_measure = 2*precision/(precision + recall)\n",
    "\n",
    "    \n",
    "    return precision,F_measure\n",
    "    \n",
    "\n",
    "train_y_f, train_y_b = bagofwords(yelp_train_x, dic_y,A)\n",
    "valid_y_f, valid_y_b = bagofwords(yelp_valid_x, dic_y,A)\n",
    "test_y_f, test_y_b = bagofwords(yelp_test_x, dic_y,A)\n",
    "\n",
    "\n"
   ]
  },
  {
   "cell_type": "code",
   "execution_count": 20,
   "metadata": {},
   "outputs": [
    {
     "name": "stdout",
     "output_type": "stream",
     "text": [
      "\n",
      "Test Result - naive classifier:\n",
      "The F-measure is 0.3975195822454308\n"
     ]
    }
   ],
   "source": [
    "def performance(p,out):\n",
    "    tp = 0\n",
    "    fp = 0\n",
    "    fn = 0\n",
    "    tn = 0\n",
    "    true_negative_total = 0\n",
    "    false_negative_total = 0\n",
    "    pos = []\n",
    "    neg = []\n",
    "    \n",
    "    for i in range(0,5):\n",
    "        temp_pos = result(p,out,i)[0]\n",
    "        temp_neg = result(p,out,i)[1]\n",
    "        tp += temp_pos[0][0]\n",
    "        fp += temp_pos[0][1]\n",
    "        fn += temp_neg[0][0]\n",
    "        tn += temp_neg[0][1]\n",
    "    pos = pos + [(tp, fp)]\n",
    "    neg = neg + [(fn, tn)]\n",
    "    \n",
    "    #accuracy = (pos[0][0])+(neg[0][1] / pos[0][1])\n",
    "    precision = (pos[0][0])/(pos[0][0] + pos[0][1])\n",
    "    recall = (pos[0][0])/(pos[0][0] + neg[0][0])\n",
    "    F_measure = 2*precision*recall/(precision + recall)\n",
    "\n",
    "    \n",
    "    return F_measure\n",
    "\n",
    "classifier = BernoulliNB()\n",
    "classifier.fit(train_y_b, yelp_train_y)\n",
    "\n",
    "\n",
    "pn_valid = classifier.predict(valid_y_b)\n",
    "valid = performance(pn_valid, yelp_valid_y)\n",
    "#print(\"the values for validation are:\")\n",
    "#print(\"The F-measure of this naives_classifier is \" + str(valid1) ) \n",
    "\n",
    "pn_test = classifier.predict(test_y_b)\n",
    "\n",
    "test = performance(pn_test, yelp_test_y)\n",
    "print()\n",
    "print(\"Test Result - naive classifier:\")\n",
    "print(\"The F-measure is \" + str(test) ) \n",
    "\n"
   ]
  },
  {
   "cell_type": "code",
   "execution_count": 22,
   "metadata": {},
   "outputs": [
    {
     "name": "stdout",
     "output_type": "stream",
     "text": [
      "\n",
      "As for the measures for the actual test are:\n",
      "The F-measure of this naives_classifier is 0.24736636753804134\n"
     ]
    }
   ],
   "source": [
    "# Now for the Tree classifier.\n",
    "\n",
    "tree.fit(train_y_b, yelp_train_y)\n",
    "\n",
    "#pt_valid = tree.predict(valid_y_b)\n",
    "#valid = performance(pt_valid, yelp_valid_y)\n",
    "#print(\"the values for validation are:\")\n",
    "#print(\"The F-measure of this naives_classifier is \" + str(valid) ) \n",
    "\n",
    "\n",
    "\n",
    "pt_test = tree.predict(test_y_b)\n",
    "test = performance(pt_test, yelp_test_y)\n",
    "print()\n",
    "print(\"As for the measures for the actual test are:\")\n",
    "\n",
    "print(\"The F-measure of this naives_classifier is \" + str(test) ) \n",
    "\n",
    "\n"
   ]
  },
  {
   "cell_type": "code",
   "execution_count": 24,
   "metadata": {},
   "outputs": [
    {
     "name": "stdout",
     "output_type": "stream",
     "text": [
      "Test Result - naive classifier:\n",
      "The F-measure is 0.35379892555640835\n"
     ]
    }
   ],
   "source": [
    "linear= LinearSVC()\n",
    "linear.fit(train_y_b, yelp_train_y)\n",
    "#svc_valid = lin_clf.predict(valid_y_b)\n",
    "svm_test = linear.predict(test_y_b)\n",
    "test = performance(svm_test, yelp_test_y)\n",
    "print(\"Test Result - naive classifier:\")\n",
    "print(\"The F-measure is \" + str(test) ) \n"
   ]
  },
  {
   "cell_type": "markdown",
   "metadata": {},
   "source": [
    "# 3\n"
   ]
  },
  {
   "cell_type": "code",
   "execution_count": 27,
   "metadata": {},
   "outputs": [
    {
     "name": "stdout",
     "output_type": "stream",
     "text": [
      "\n",
      "Test Result - naive classifier:\n",
      "The F-measure is 0.3975195822454308\n"
     ]
    }
   ],
   "source": [
    "classifier = BernoulliNB()\n",
    "classifier.fit(train_y_f, yelp_train_y)\n",
    "\n",
    "\n",
    "#pn_valid = classifier.predict(valid_y_f)\n",
    "#valid = performance(pn_valid, yelp_valid_f)\n",
    "#print(\"the values for validation are:\")\n",
    "#print(\"The F-measure of this naives_classifier is \" + str(valid1) ) \n",
    "\n",
    "pn_test = classifier.predict(test_y_f)\n",
    "\n",
    "test = performance(pn_test, yelp_test_y)\n",
    "print()\n",
    "print(\"Test Result - naive classifier:\")\n",
    "print(\"The F-measure is \" + str(test) ) "
   ]
  },
  {
   "cell_type": "code",
   "execution_count": 30,
   "metadata": {},
   "outputs": [
    {
     "name": "stdout",
     "output_type": "stream",
     "text": [
      "\n",
      "As for the measures for the actual test are:\n",
      "The F-measure of this naives_classifier is 0.2718738265114533\n"
     ]
    }
   ],
   "source": [
    "# Now for the Tree classifier.\n",
    "#tree = tree.DecisionTreeClassifier()\n",
    "tree.fit(train_y_f, yelp_train_y)\n",
    "\n",
    "\"\"\"\"pt_valid = tree.predict(valid_y_f)\n",
    "valid = performance(pt_valid, yelp_valid_f)\n",
    "print(\"the values for validation are:\")\n",
    "print(\"The F-measure of this naives_classifier is \" + str(valid) ) \n",
    "\"\"\"\n",
    "\n",
    "\n",
    "pt_test = tree.predict(test_y_f)\n",
    "test = performance(pt_test, yelp_test_y)\n",
    "print()\n",
    "print(\"As for the measures for the actual test are:\")\n",
    "\n",
    "print(\"The F-measure of this naives_classifier is \" + str(test) ) "
   ]
  },
  {
   "cell_type": "code",
   "execution_count": 32,
   "metadata": {},
   "outputs": [
    {
     "name": "stdout",
     "output_type": "stream",
     "text": [
      "Test Result - naive classifier:\n",
      "The F-measure is 0.35379892555640835\n"
     ]
    }
   ],
   "source": [
    "linear= LinearSVC()\n",
    "linear.fit(train_y_b, yelp_train_y)\n",
    "#svc_valid = lin_clf.predict(valid_y_b)\n",
    "svm_test = linear.predict(test_y_b)\n",
    "test = performance(svm_test, yelp_test_y)\n",
    "print(\"Test Result - naive classifier:\")\n",
    "print(\"The F-measure is \" + str(test) ) "
   ]
  },
  {
   "cell_type": "markdown",
   "metadata": {},
   "source": [
    "# 4 "
   ]
  },
  {
   "cell_type": "code",
   "execution_count": null,
   "metadata": {
    "collapsed": true
   },
   "outputs": [],
   "source": [
    "B = {}\n",
    "i = 0\n",
    "for k in dic_y:\n",
    "    B[k] = i\n",
    "    i+= 1\n",
    "    \n",
    "\n",
    "\n",
    "\n",
    "\n",
    "classifier = BernoulliNB()\n",
    "classifier.fit(train_y_f, yelp_train_y)\n",
    "\n",
    "\n",
    "#pn_valid = classifier.predict(valid_y_f)\n",
    "#valid = performance(pn_valid, yelp_valid_f)\n",
    "#print(\"the values for validation are:\")\n",
    "#print(\"The F-measure of this naives_classifier is \" + str(valid1) ) \n",
    "\n",
    "pn_test = classifier.predict(test_y_f)\n",
    "\n",
    "test = performance(pn_test, yelp_test_y)\n",
    "print()\n",
    "print(\"Test Result - naive classifier:\")\n",
    "print(\"The F-measure is \" + str(test) )"
   ]
  }
 ],
 "metadata": {
  "kernelspec": {
   "display_name": "Python 3",
   "language": "python",
   "name": "python3"
  },
  "language_info": {
   "codemirror_mode": {
    "name": "ipython",
    "version": 3
   },
   "file_extension": ".py",
   "mimetype": "text/x-python",
   "name": "python",
   "nbconvert_exporter": "python",
   "pygments_lexer": "ipython3",
   "version": "3.6.3"
  }
 },
 "nbformat": 4,
 "nbformat_minor": 2
}
