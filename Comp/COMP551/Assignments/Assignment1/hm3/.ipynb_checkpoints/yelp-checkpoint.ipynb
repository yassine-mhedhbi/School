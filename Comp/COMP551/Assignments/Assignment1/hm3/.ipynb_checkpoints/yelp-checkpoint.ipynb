{
 "cells": [
  {
   "cell_type": "code",
   "execution_count": 1,
   "metadata": {
    "collapsed": true
   },
   "outputs": [],
   "source": [
    "import numpy as np\n",
    "import pandas as pd\n",
    "from collections import Counter\n",
    "import csv\n",
    "import string"
   ]
  },
  {
   "cell_type": "code",
   "execution_count": null,
   "metadata": {
    "collapsed": true
   },
   "outputs": [],
   "source": [
    "table = {ord(char): None for char in string.punctuation}\n",
    "R = open(\"Datasets/yelp-train.txt\",\"r\").read().translate(table).lower()\n",
    "Text = R.split(\" \")\n",
    "yelp_top = Counter(Text).most_common(10000)\n",
    "dic_y = dict(yelp_top)\n",
    "A = {}\n",
    "i = 0\n",
    "for k in dic_y:\n",
    "    A[k] = i\n",
    "    i+= 1\n",
    "\n",
    "imdb_v = open(\"IMDB-vocab.txt\",\"a\")\n",
    "for i in range(10000):\n",
    "\tline = str(i+1) + \"\\t\" + IMDB_top[i][0] + \"\\t\" + str(IMDB_top[i][1]) + \"\\n\"\n",
    "\timdb_v.write(line)\n"
   ]
  },
  {
   "cell_type": "code",
   "execution_count": null,
   "metadata": {
    "collapsed": true
   },
   "outputs": [],
   "source": [
    "yelp_train_x = []\n",
    "yelp_train_y = []\n",
    "f = open(\"Datasets/yelp-train.txt\",\"r\").read().translate(table).lower()\n",
    "x = f.split(\"\\n\")\n",
    "for i in range(len(x)-1):\n",
    "    a = x[i].split(\"\\t\")\n",
    "    yelp_train_x = yelp_train_x + [a[0]]\n",
    "    yelp_train_y = yelp_train_y + [int(a[1])]\n",
    "                        \n",
    "yelp_valid_x = []\n",
    "yelp_valid_y = []\n",
    "f = open(\"Datasets/yelp-valid.txt\",\"r\").read().translate(table).lower()\n",
    "x = f.split(\"\\n\")\n",
    "for i in range(len(x)-1):\n",
    "    a = x[i].split(\"\\t\")\n",
    "    yelp_valid_x = yelp_valid_x + [a[0]]\n",
    "    yelp_valid_y = yelp_valid_y + [int(a[1])]\n",
    "                        \n",
    "yelp_test_x = []\n",
    "yelp_test_y = []\n",
    "f = open(\"Datasets/yelp-test.txt\",\"r\").read().translate(table).lower()\n",
    "x = f.split(\"\\n\")\n",
    "for i in range(len(x)-1):\n",
    "    a = x[i].split(\"\\t\")\n",
    "    yelp_test_x = yelp_test_x + [a[0]]\n",
    "    yelp_test_y = yelp_test_y + [int(a[1])]"
   ]
  },
  {
   "cell_type": "code",
   "execution_count": null,
   "metadata": {
    "collapsed": true
   },
   "outputs": [],
   "source": [
    "def bagofwords(data, dic,w):\n",
    "    DM_binary = []\n",
    "    DM_frequency = []\n",
    "    for x in data:\n",
    "        vector_binary = np.zeros(len(dic))\n",
    "        vector_frequency = np.zeros(len(dic))\n",
    "        for y in x:\n",
    "            if y in dic:\n",
    "                index = w[y]\n",
    "                if (vector_binary[index] == 0):\n",
    "                    vector_binary[index] = 1\n",
    "                vector_frequency[index] += 1                \n",
    "        DM_binary.append(vector_binary)\n",
    "        DM_frequency.append(vector_frequency)   \n",
    "    return DM_frequency, DM_binary\n",
    "\n",
    "train_y_f, train_y_b = bagofwords(yelp_train_x, dic_y,A)\n",
    "valid_y_f, valid_y_b = bagofwords(yelp_valid_x, dic_y,A)\n",
    "test_y_f, test_y_b = bagofwords(yelp_test_x, dic_y,A)"
   ]
  }
 ],
 "metadata": {
  "kernelspec": {
   "display_name": "Python 3",
   "language": "python",
   "name": "python3"
  },
  "language_info": {
   "codemirror_mode": {
    "name": "ipython",
    "version": 3
   },
   "file_extension": ".py",
   "mimetype": "text/x-python",
   "name": "python",
   "nbconvert_exporter": "python",
   "pygments_lexer": "ipython3",
   "version": "3.6.3"
  }
 },
 "nbformat": 4,
 "nbformat_minor": 2
}
