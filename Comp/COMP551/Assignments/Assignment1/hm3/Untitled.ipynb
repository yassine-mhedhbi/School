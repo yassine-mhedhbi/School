{
 "cells": [
  {
   "cell_type": "code",
   "execution_count": 1,
   "metadata": {
    "collapsed": true
   },
   "outputs": [],
   "source": [
    "import numpy as np\n",
    "import pandas as pd\n",
    "from collections import Counter\n",
    "import csv\n",
    "import string\n",
    "from sklearn.dummy import DummyClassifier"
   ]
  },
  {
   "cell_type": "code",
   "execution_count": 3,
   "metadata": {
    "collapsed": true
   },
   "outputs": [],
   "source": [
    "def bagofword(words,data,mode):\n",
    "\tl=np.zeros((len(data),10000))\n",
    "\tcount=0;\n",
    "\tfor lines in data:\n",
    "\t\tind = 0\n",
    "\t\tfor w in words:\n",
    "\t\t\tif(w in lines):\n",
    "\t\t\t\tl[count][ind]=1\n",
    "\t\t\tind+=1\n",
    "\t\tcount+=1\n",
    "\treturn l\n",
    "\n",
    "table = {ord(char): None for char in string.punctuation}\n",
    "# first we get the top 10k words for IMDB\n",
    "T = open(\"Datasets/IMDB-train.txt\",\"r\").read().translate(table).lower()\n",
    "Text = T.split(\" \")\n",
    "\n",
    "IMDB_top = Counter(Text).most_common(10000)\n",
    "dic_i = dict(IMDB_top)\n",
    "\n",
    "#print(IMDB_top)\n",
    "\n",
    "# first we get the top 10k words for yelp\n",
    "R = open(\"Datasets/yelp-train.txt\",\"r\").read().translate(table).lower()\n",
    "Text = R.split(\" \")\n",
    "yelp_top = Counter(Text).most_common(10000)\n",
    "dic_y = dict(yelp_top)\n",
    "A = {}\n",
    "i = 0\n",
    "for k in dic_y:\n",
    "    A[k] = i\n",
    "    i+= 1\n",
    "\n",
    "imdb_v = open(\"IMDB-vocab.txt\",\"a\")\n",
    "for i in range(10000):\n",
    "\tline = str(i+1) + \"\\t\" + IMDB_top[i][0] + \"\\t\" + str(IMDB_top[i][1]) + \"\\n\"\n",
    "\timdb_v.write(line)\n",
    "\n",
    "yelp_v = open(\"yelp-vocab.txt\",\"a\")\n",
    "for i in range(10000):\n",
    "\tline = str(i+1) + \"\\t\" + yelp_top[i][0] + \"\\t\" + str(yelp_top[i][1]) + \"\\n\"\n",
    "\tyelp_v.write(line)\n",
    "\n",
    "# ----------------- done with vocab.txt files ---------------------------------------#\n",
    "\n",
    "words_i = [i[0] for i in IMDB_top]\n",
    "words_y = [i[0] for i in yelp_top]\n",
    "\n",
    "\n"
   ]
  },
  {
   "cell_type": "code",
   "execution_count": 20,
   "metadata": {
    "collapsed": true
   },
   "outputs": [],
   "source": [
    "max_features = [i for i in range(1,20)]\n",
    "min_samples_leaf = [i for i in range(1,20)]\n",
    "max_depth = [i for i in range(1,20)]\n"
   ]
  },
  {
   "cell_type": "code",
   "execution_count": 4,
   "metadata": {
    "collapsed": true
   },
   "outputs": [],
   "source": [
    "from sklearn.naive_bayes import BernoulliNB\n",
    "import scipy.sparse as sps\n",
    "from sklearn import tree\n",
    "from sklearn.naive_bayes import GaussianNB"
   ]
  },
  {
   "cell_type": "code",
   "execution_count": 5,
   "metadata": {
    "collapsed": true
   },
   "outputs": [],
   "source": [
    "from sklearn.svm import LinearSVC\n",
    "from collections import Counter\n",
    "import string\n",
    "import operator\n",
    "\n",
    "from scipy.sparse import csr_matrix\n",
    "from scipy.sparse import vstack\n",
    "from scipy.sparse import hstack"
   ]
  },
  {
   "cell_type": "code",
   "execution_count": 6,
   "metadata": {
    "collapsed": true
   },
   "outputs": [],
   "source": [
    "#T = str.maketrans(\"\", \"\", string.punctuation)\n",
    "\n",
    "def bagofwords(data,words):\n",
    "    frequency = csr_matrix((0,10000))\n",
    "    binary = csr_matrix((0,10000))\n",
    "    for j in data:\n",
    "        temp_freq = []\n",
    "        temp_binary = []\n",
    "        \n",
    "        for word in words:\n",
    "            count = j.split(\" \").count(word)\n",
    "            temp_freq.append(count)\n",
    "            if count > 0:\n",
    "                temp_binary.append(1)\n",
    "            else:\n",
    "                temp_binary.append(count)\n",
    "        \n",
    "        if sum(temp_freq) != 0:    \n",
    "            temp_freq = [i/sum(temp_freq) for i in temp_freq]   \n",
    "            \n",
    "\n",
    "        temp_freq = csr_matrix(temp_freq)\n",
    "        temp_binary = csr_matrix(temp_binary)\n",
    "        frequency = vstack((frequency,temp_freq))\n",
    "        binary = vstack((binary,temp_binary))\n",
    "        \n",
    "    return frequency, binary\n",
    "\n",
    "imdb_train_x = []\n",
    "imdb_train_y = []\n",
    "f = open(\"Datasets/IMDB-train.txt\",\"r\").read().translate(table).lower()\n",
    "x = f.split(\"\\n\")\n",
    "c = 0\n",
    "for i in range(len(x)-1):\n",
    "    a = x[i].split(\"\\t\")\n",
    "    imdb_train_x = imdb_train_x + [a[0]]\n",
    "    imdb_train_y = imdb_train_y + [int(a[1])]\n",
    "                        \n",
    "imdb_valid_x = []\n",
    "imdb_valid_y = []\n",
    "f = open(\"Datasets/IMDB-valid.txt\",\"r\").read().translate(table).lower()\n",
    "x = f.split(\"\\n\")\n",
    "for i in range(len(x)-1):\n",
    "    a = x[i].split(\"\\t\")\n",
    "    imdb_valid_x = imdb_valid_x + [a[0]]\n",
    "    imdb_valid_y = imdb_valid_y + [int(a[1])]\n",
    "                        \n",
    "imdb_test_x = []\n",
    "imdb_test_y = []\n",
    "f = open(\"Datasets/IMDB-test.txt\",\"r\").read().translate(table).lower()\n",
    "x = f.split(\"\\n\")\n",
    "for i in range(len(x)-1):\n",
    "    a = x[i].split(\"\\t\")\n",
    "    imdb_test_x = imdb_test_x + [a[0]]\n",
    "    imdb_test_y = imdb_test_y + [int(a[1])]\n",
    "\n",
    "\n",
    "\n",
    "yelp_train_x = []\n",
    "yelp_train_y = []\n",
    "f = open(\"Datasets/yelp-train.txt\",\"r\").read().translate(table).lower()\n",
    "x = f.split(\"\\n\")\n",
    "for i in range(len(x)-1):\n",
    "    a = x[i].split(\"\\t\")\n",
    "    yelp_train_x = yelp_train_x + [a[0]]\n",
    "    yelp_train_y = yelp_train_y + [int(a[1])]\n",
    "                        \n",
    "yelp_valid_x = []\n",
    "yelp_valid_y = []\n",
    "f = open(\"Datasets/yelp-valid.txt\",\"r\").read().translate(table).lower()\n",
    "x = f.split(\"\\n\")\n",
    "for i in range(len(x)-1):\n",
    "    a = x[i].split(\"\\t\")\n",
    "    yelp_valid_x = yelp_valid_x + [a[0]]\n",
    "    yelp_valid_y = yelp_valid_y + [int(a[1])]\n",
    "                        \n",
    "yelp_test_x = []\n",
    "yelp_test_y = []\n",
    "f = open(\"Datasets/yelp-test.txt\",\"r\").read().translate(table).lower()\n",
    "x = f.split(\"\\n\")\n",
    "for i in range(len(x)-1):\n",
    "    a = x[i].split(\"\\t\")\n",
    "    yelp_test_x = yelp_test_x + [a[0]]\n",
    "    yelp_test_y = yelp_test_y + [int(a[1])]\n",
    "                    \n",
    "                      \n",
    "\n",
    "\n",
    "\n",
    "\n",
    "\n",
    "\n",
    "\n"
   ]
  },
  {
   "cell_type": "code",
   "execution_count": 7,
   "metadata": {
    "collapsed": true
   },
   "outputs": [],
   "source": [
    "k = open(\"Datasets/IMDB-valid.txt\",\"r\").read()\n",
    "k = k.translate(table).lower()\n",
    "Text = k.split(\" \")\n",
    "Max = Counter(Text).most_common(10000)\n",
    "words_i_v = [i[0] for i in Max]\n",
    "dic_i_v = dict(Max)\n",
    "\n",
    "\n",
    "\n",
    "l = open(\"Datasets/IMDB-test.txt\",\"r\").read()\n",
    "l = l.translate(table).lower()\n",
    "Text = l.split(\" \")\n",
    "Max = Counter(Text).most_common(10000)\n",
    "words_i_t = [i[0] for i in Max]\n",
    "dic_i_t = dict(Max)\n",
    "\n",
    "m = open(\"Datasets/yelp-valid.txt\",\"r\").read()\n",
    "m = m.translate(table).lower()\n",
    "Text = m.split(\" \")\n",
    "Max = Counter(Text).most_common(10000)\n",
    "words_y_v = [i[0] for i in Max]\n",
    "dic_y_v = dict(Max)\n",
    "B = {}\n",
    "i = 0\n",
    "for k in dic_y:\n",
    "    B[k] = i\n",
    "    i+= 1\n",
    "n = open(\"Datasets/yelp-test.txt\",\"r\").read()\n",
    "n = n.translate(table).lower()\n",
    "Text = l.split(\" \")\n",
    "Max = Counter(Text).most_common(10000)\n",
    "words_y_t = [i[0] for i in Max]\n",
    "dic_y_t = dict(Max)\n",
    "\n",
    "C = {}\n",
    "i = 0\n",
    "for k in dic_y:\n",
    "    C[k] = i\n",
    "    i+= 1\n",
    "\n",
    "\n"
   ]
  },
  {
   "cell_type": "code",
   "execution_count": 8,
   "metadata": {
    "collapsed": true
   },
   "outputs": [],
   "source": [
    "def bagofwords(data, dic,w):\n",
    "    DM_binary = []\n",
    "    DM_frequency = []\n",
    "    for x in data:\n",
    "        vector_binary = np.zeros(len(dic))\n",
    "        vector_frequency = np.zeros(len(dic))\n",
    "        for y in x:\n",
    "            if y in dic:\n",
    "                index = w[y]\n",
    "                if (vector_binary[index] == 0):\n",
    "                    vector_binary[index] = 1\n",
    "                vector_frequency[index] += 1                \n",
    "        DM_binary.append(vector_binary)\n",
    "        DM_frequency.append(vector_frequency)   \n",
    "    return DM_frequency, DM_binary\n",
    "\n",
    "\n",
    "    \n",
    "\n",
    "train_y_f, train_y_b = bagofwords(yelp_train_x, dic_y,A)\n",
    "valid_y_f, valid_y_b = bagofwords(yelp_valid_x, dic_y,A)\n",
    "test_y_f, test_y_b = bagofwords(yelp_test_x, dic_y,A)\n",
    "\n",
    "\n"
   ]
  },
  {
   "cell_type": "code",
   "execution_count": 15,
   "metadata": {},
   "outputs": [
    {
     "name": "stdout",
     "output_type": "stream",
     "text": [
      "\n",
      "Test Result - naive classifier:\n",
      "The F-measure is 0.361with best alpha is:1e-90\n"
     ]
    }
   ],
   "source": [
    "import math\n",
    "from sklearn.metrics import f1_score \n",
    "classifier = BernoulliNB()\n",
    "classifier.fit(train_y_b, yelp_train_y)\n",
    "\n",
    "\n",
    "\n",
    "#print(\"the values for validation are:\")\n",
    "#print(\"The F-measure of this naives_classifier is \" + str(valid1) ) \n",
    "parameters = []\n",
    "for i in range(0,100):\n",
    "    parameters.append(math.pow(10,(i-90)))\n",
    "best = -1\n",
    "k = 0\n",
    "for i in parameters:\n",
    "    classifier.alpha = i\n",
    "    f1_measure = f1_score(yelp_valid_y,classifier.predict(valid_y_b), average='micro')\n",
    "    if (best < f1_measure):\n",
    "        k = i\n",
    "        best = f1_measure\n",
    "classifier.alpha = k   \n",
    "\n",
    "pn_test = classifier.predict(test_y_b)\n",
    "\n",
    "test= f1_score(yelp_test_y,pn_test, average='micro')\n",
    "print()\n",
    "print(\"Test Result - naive classifier:\")\n",
    "print(\"The F-measure is \" + str(test) + \"with best alpha is:\" +str(classifier.alpha) ) \n",
    "\n"
   ]
  },
  {
   "cell_type": "code",
   "execution_count": 22,
   "metadata": {},
   "outputs": [
    {
     "name": "stdout",
     "output_type": "stream",
     "text": [
      "\n",
      "Test Result - tree classifier:\n",
      "The F-measure is 0.302\n"
     ]
    }
   ],
   "source": [
    "# Now for the Tree classifier.\n",
    "\n",
    "tree.fit(train_y_b, yelp_train_y)\n",
    "\n",
    "#pt_valid = tree.predict(valid_y_b)\n",
    "#valid = performance(pt_valid, yelp_valid_y)\n",
    "#print(\"the values for validation are:\")\n",
    "#print(\"The F-measure of this naives_classifier is \" + str(valid) ) \n",
    "best_f1_2 = -10\n",
    "best_i = 0\n",
    "best_j = 0\n",
    "best_k = 0 \n",
    "for i in max_features:\n",
    "    for j in min_samples_leaf:\n",
    "        for k in max_depth:\n",
    "            tree.max_features = i\n",
    "            tree.min_samples_leaf = j\n",
    "            tree.max_depth = k\n",
    "            f1_measure = f1_score(yelp_valid_y,tree.predict(valid_y_b), average='micro')\n",
    "            if (best_f1_2 < f1_measure):\n",
    "                best_i = i\n",
    "                best_j = j\n",
    "                best_k = k \n",
    "                best_f1_2 = f1_measure\n",
    "                \n",
    "\n",
    "tree.max_features = best_i\n",
    "tree.max_features = best_j\n",
    "tree.max_features = best_k \n",
    "\n",
    "\n",
    "pt_test = tree.predict(test_y_b)\n",
    "test = f1_score(yelp_test_y,pt_test, average='micro')\n",
    "print()\n",
    "print(\"Test Result - tree classifier:\")\n",
    "print(\"The F-measure is \" + str(test)) \n",
    "\n"
   ]
  },
  {
   "cell_type": "code",
   "execution_count": 27,
   "metadata": {},
   "outputs": [
    {
     "name": "stdout",
     "output_type": "stream",
     "text": [
      "Test Result - svm classifier:\n",
      "The F-measure is 0.3675 with C:1e-90\n"
     ]
    }
   ],
   "source": [
    "linear= LinearSVC()\n",
    "linear.fit(train_y_b, yelp_train_y)\n",
    "#svc_valid = lin_clf.predict(valid_y_b)\n",
    "parameters = []\n",
    "for i in range(0,100):\n",
    "    parameters.append(math.pow(10,(i-90)))\n",
    "best = -1\n",
    "k=0\n",
    "for i in parameters:\n",
    "    linear.C = i\n",
    "    f1_measure = f1_score(yelp_valid_y,classifier.predict(valid_y_b), average='micro')\n",
    "    if (best < f1_measure):\n",
    "        k = i\n",
    "        best = f1_measure\n",
    "linear.C = k   \n",
    "svm_test = linear.predict(test_y_b)\n",
    "test = f1_score(yelp_test_y,svm_test, average='micro')\n",
    "print(\"Test Result - svm classifier:\")\n",
    "print(\"The F-measure is \" + str(test) + \" with C:\" + str(linear.C) ) \n"
   ]
  },
  {
   "cell_type": "markdown",
   "metadata": {},
   "source": [
    "# 3\n"
   ]
  },
  {
   "cell_type": "code",
   "execution_count": 29,
   "metadata": {},
   "outputs": [
    {
     "name": "stdout",
     "output_type": "stream",
     "text": [
      "\n",
      "Test Result - naive classifier:\n",
      "The F-measure is 0.361with best alpha is:1e-90\n"
     ]
    }
   ],
   "source": [
    "#print(\"the values for validation are:\")\n",
    "#print(\"The F-measure of this naives_classifier is \" + str(valid1) ) \n",
    "classifier = BernoulliNB()\n",
    "classifier.fit(train_y_f, yelp_train_y)\n",
    "\n",
    "\n",
    "parameters = []\n",
    "for i in range(0,100):\n",
    "    parameters.append(math.pow(10,(i-90)))\n",
    "best = -1\n",
    "k = 0\n",
    "for i in parameters:\n",
    "    classifier.alpha = i\n",
    "    f1_measure = f1_score(yelp_valid_y,classifier.predict(valid_y_f), average='micro')\n",
    "    if (best < f1_measure):\n",
    "        k = i\n",
    "        best = f1_measure\n",
    "classifier.alpha = k   \n",
    "\n",
    "pn_test = classifier.predict(test_y_f)\n",
    "\n",
    "test= f1_score(yelp_test_y,pn_test, average='micro')\n",
    "print()\n",
    "print(\"Test Result - naive classifier:\")\n",
    "print(\"The F-measure is \" + str(test) + \"with best alpha is:\" +str(classifier.alpha) ) \n",
    "\n",
    " "
   ]
  },
  {
   "cell_type": "code",
   "execution_count": 30,
   "metadata": {},
   "outputs": [
    {
     "name": "stdout",
     "output_type": "stream",
     "text": [
      "\n",
      "As for the measures for the actual test are:\n",
      "The F-measure of this naives_classifier is 0.2718738265114533\n"
     ]
    }
   ],
   "source": [
    "# Now for the Tree classifier.\n",
    "#tree = tree.DecisionTreeClassifier()\n",
    "# Now for the Tree classifier.\n",
    "\n",
    "tree.fit(train_y_f, yelp_train_y)\n",
    "\n",
    "#pt_valid = tree.predict(valid_y_b)\n",
    "#valid = performance(pt_valid, yelp_valid_y)\n",
    "#print(\"the values for validation are:\")\n",
    "#print(\"The F-measure of this naives_classifier is \" + str(valid) ) \n",
    "best_f1_2 = -10\n",
    "best_i = 0\n",
    "best_j = 0\n",
    "best_k = 0 \n",
    "for i in max_features:\n",
    "    for j in min_samples_leaf:\n",
    "        for k in max_depth:\n",
    "            tree.max_features = i\n",
    "            tree.min_samples_leaf = j\n",
    "            tree.max_depth = k\n",
    "            f1_measure = f1_score(yelp_valid_y,tree.predict(valid_y_f), average='micro')\n",
    "            if (best_f1_2 < f1_measure):\n",
    "                best_i = i\n",
    "                best_j = j\n",
    "                best_k = k \n",
    "                best_f1_2 = f1_measure\n",
    "                \n",
    "\n",
    "tree.max_features = best_i\n",
    "tree.max_features = best_j\n",
    "tree.max_features = best_k \n",
    "\n",
    "\n",
    "pt_test = tree.predict(test_y_b)\n",
    "test = f1_score(yelp_test_y,pt_test, average='micro')\n",
    "print()\n",
    "print(\"Test Result - tree classifier:\")\n",
    "print(\"The F-measure is \" + str(test)) \n",
    "\n",
    "\n",
    "\n",
    " "
   ]
  },
  {
   "cell_type": "code",
   "execution_count": 32,
   "metadata": {},
   "outputs": [
    {
     "name": "stdout",
     "output_type": "stream",
     "text": [
      "Test Result - naive classifier:\n",
      "The F-measure is 0.35379892555640835\n"
     ]
    }
   ],
   "source": [
    "linear= LinearSVC()\n",
    "linear.fit(train_y_b, yelp_train_y)\n",
    "#svc_valid = lin_clf.predict(valid_y_b)\n",
    "svm_test = linear.predict(test_y_b)\n",
    "test = performance(svm_test, yelp_test_y)\n",
    "print(\"Test Result - naive classifier:\")\n",
    "print(\"The F-measure is \" + str(test) ) "
   ]
  },
  {
   "cell_type": "markdown",
   "metadata": {},
   "source": [
    "# 4 "
   ]
  },
  {
   "cell_type": "code",
   "execution_count": 1,
   "metadata": {},
   "outputs": [
    {
     "ename": "NameError",
     "evalue": "name 'dic_i' is not defined",
     "output_type": "error",
     "traceback": [
      "\u001b[0;31m---------------------------------------------------------------------------\u001b[0m",
      "\u001b[0;31mNameError\u001b[0m                                 Traceback (most recent call last)",
      "\u001b[0;32m<ipython-input-1-eec36536e076>\u001b[0m in \u001b[0;36m<module>\u001b[0;34m()\u001b[0m\n\u001b[1;32m      1\u001b[0m \u001b[0mB\u001b[0m \u001b[0;34m=\u001b[0m \u001b[0;34m{\u001b[0m\u001b[0;34m}\u001b[0m\u001b[0;34m\u001b[0m\u001b[0m\n\u001b[1;32m      2\u001b[0m \u001b[0mi\u001b[0m \u001b[0;34m=\u001b[0m \u001b[0;36m0\u001b[0m\u001b[0;34m\u001b[0m\u001b[0m\n\u001b[0;32m----> 3\u001b[0;31m \u001b[0;32mfor\u001b[0m \u001b[0mk\u001b[0m \u001b[0;32min\u001b[0m \u001b[0mdic_i\u001b[0m\u001b[0;34m:\u001b[0m\u001b[0;34m\u001b[0m\u001b[0m\n\u001b[0m\u001b[1;32m      4\u001b[0m     \u001b[0mB\u001b[0m\u001b[0;34m[\u001b[0m\u001b[0mk\u001b[0m\u001b[0;34m]\u001b[0m \u001b[0;34m=\u001b[0m \u001b[0mi\u001b[0m\u001b[0;34m\u001b[0m\u001b[0m\n\u001b[1;32m      5\u001b[0m     \u001b[0mi\u001b[0m\u001b[0;34m+=\u001b[0m \u001b[0;36m1\u001b[0m\u001b[0;34m\u001b[0m\u001b[0m\n",
      "\u001b[0;31mNameError\u001b[0m: name 'dic_i' is not defined"
     ]
    }
   ],
   "source": [
    "B = {}\n",
    "i = 0\n",
    "for k in dic_i:\n",
    "    B[k] = i\n",
    "    i+= 1\n",
    "    \n",
    "train_i_f, train_i_b = bagofwords(imdb_train_x, dic_i,B)\n",
    "valid_i_f, valid_i_b = bagofwords(imdb_valid_x, dic_i,B)\n",
    "test_i_f, test_i_b = bagofwords(imdb_test_x, dic_i,B)\n",
    "\n",
    "\n",
    "\n",
    "\n"
   ]
  },
  {
   "cell_type": "code",
   "execution_count": null,
   "metadata": {
    "collapsed": true
   },
   "outputs": [],
   "source": [
    "classifier = BernoulliNB()\n",
    "classifier.fit(train_y_f, yelp_train_y)\n",
    "\n",
    "\n",
    "#pn_valid = classifier.predict(valid_y_f)\n",
    "#valid = performance(pn_valid, yelp_valid_f)\n",
    "#print(\"the values for validation are:\")\n",
    "#print(\"The F-measure of this naives_classifier is \" + str(valid1) ) \n",
    "\n",
    "pn_test = classifier.predict(test_y_f)\n",
    "\n",
    "test = performance(pn_test, yelp_test_y)\n",
    "print()\n",
    "print(\"Test Result - naive classifier:\")\n",
    "print(\"The F-measure is \" + str(test) )"
   ]
  }
 ],
 "metadata": {
  "kernelspec": {
   "display_name": "Python 3",
   "language": "python",
   "name": "python3"
  },
  "language_info": {
   "codemirror_mode": {
    "name": "ipython",
    "version": 3
   },
   "file_extension": ".py",
   "mimetype": "text/x-python",
   "name": "python",
   "nbconvert_exporter": "python",
   "pygments_lexer": "ipython3",
   "version": "3.6.3"
  }
 },
 "nbformat": 4,
 "nbformat_minor": 2
}
