{
 "cells": [
  {
   "cell_type": "markdown",
   "metadata": {},
   "source": [
    "# Assignmnet 1\n",
    "## Model Selection (Part 1)"
   ]
  },
  {
   "cell_type": "code",
   "execution_count": 68,
   "metadata": {
    "collapsed": true
   },
   "outputs": [],
   "source": [
    "import sys\n",
    "import pandas as pd\n",
    "import numpy as np\n",
    "import matplotlib.pyplot as plt\n",
    "matr = []\n",
    "Y = []"
   ]
  },
  {
   "cell_type": "code",
   "execution_count": 69,
   "metadata": {},
   "outputs": [
    {
     "data": {
      "text/html": [
       "<div>\n",
       "<style>\n",
       "    .dataframe thead tr:only-child th {\n",
       "        text-align: right;\n",
       "    }\n",
       "\n",
       "    .dataframe thead th {\n",
       "        text-align: left;\n",
       "    }\n",
       "\n",
       "    .dataframe tbody tr th {\n",
       "        vertical-align: top;\n",
       "    }\n",
       "</style>\n",
       "<table border=\"1\" class=\"dataframe\">\n",
       "  <thead>\n",
       "    <tr style=\"text-align: right;\">\n",
       "      <th></th>\n",
       "      <th>x</th>\n",
       "      <th>y</th>\n",
       "    </tr>\n",
       "  </thead>\n",
       "  <tbody>\n",
       "    <tr>\n",
       "      <th>0</th>\n",
       "      <td>0.516220</td>\n",
       "      <td>1.609671</td>\n",
       "    </tr>\n",
       "    <tr>\n",
       "      <th>1</th>\n",
       "      <td>0.850085</td>\n",
       "      <td>14.814006</td>\n",
       "    </tr>\n",
       "    <tr>\n",
       "      <th>2</th>\n",
       "      <td>-0.840629</td>\n",
       "      <td>-8.738649</td>\n",
       "    </tr>\n",
       "    <tr>\n",
       "      <th>3</th>\n",
       "      <td>0.227433</td>\n",
       "      <td>-0.274344</td>\n",
       "    </tr>\n",
       "    <tr>\n",
       "      <th>4</th>\n",
       "      <td>-0.649508</td>\n",
       "      <td>-8.683412</td>\n",
       "    </tr>\n",
       "  </tbody>\n",
       "</table>\n",
       "</div>"
      ],
      "text/plain": [
       "          x          y\n",
       "0  0.516220   1.609671\n",
       "1  0.850085  14.814006\n",
       "2 -0.840629  -8.738649\n",
       "3  0.227433  -0.274344\n",
       "4 -0.649508  -8.683412"
      ]
     },
     "execution_count": 69,
     "metadata": {},
     "output_type": "execute_result"
    }
   ],
   "source": [
    "# Read the data \n",
    "data = pd.read_csv(\"Datasets/Dataset_1_train.csv\", header = -1,usecols=range(2))\n",
    "cols = [\"x\",\"y\"]\n",
    "data.columns = cols\n",
    "data.head()\n"
   ]
  },
  {
   "cell_type": "code",
   "execution_count": 70,
   "metadata": {
    "collapsed": true
   },
   "outputs": [],
   "source": [
    "x = data['x']\n",
    "y = data['y']"
   ]
  },
  {
   "cell_type": "code",
   "execution_count": 71,
   "metadata": {},
   "outputs": [
    {
     "data": {
      "text/plain": [
       "Text(0,0.5,'y')"
      ]
     },
     "execution_count": 71,
     "metadata": {},
     "output_type": "execute_result"
    }
   ],
   "source": [
    "plt.scatter(x,y)\n",
    "plt.title(\"Training Data\")\n",
    "plt.xlabel(\"x\")\n",
    "plt.ylabel(\"y\")"
   ]
  },
  {
   "cell_type": "code",
   "execution_count": 72,
   "metadata": {},
   "outputs": [
    {
     "data": {
      "image/png": "[encoded data removed]",
      "text/plain": [
       "<matplotlib.figure.Figure at 0x7fc06316ee10>"
      ]
     },
     "metadata": {},
     "output_type": "display_data"
    }
   ],
   "source": [
    "plt.show()"
   ]
  },
  {
   "cell_type": "code",
   "execution_count": 73,
   "metadata": {
    "collapsed": true
   },
   "outputs": [],
   "source": [
    "matr = []\n",
    "for a in x:\n",
    "    row =[]\n",
    "    for p in range(20,-1,-1): \n",
    "        row = row + [a**(p)]\n",
    "    matr = matr + [row]  "
   ]
  },
  {
   "cell_type": "code",
   "execution_count": 74,
   "metadata": {
    "collapsed": true
   },
   "outputs": [],
   "source": [
    "#Initialization for X, X^T and Y.\n",
    "Y=[]\n",
    "for i in y:\n",
    "    Y = Y +[[i]]\n",
    "    \n",
    "X = np.array(matr) \n",
    "XT = X.transpose() "
   ]
  },
  {
   "cell_type": "markdown",
   "metadata": {},
   "source": [
    "### $$ W^* = (X^TX)^{-1}X^TY$$"
   ]
  },
  {
   "cell_type": "markdown",
   "metadata": {},
   "source": [
    "### Using the formula we derived from class, we get the following parameters for the polynomial"
   ]
  },
  {
   "cell_type": "code",
   "execution_count": 75,
   "metadata": {},
   "outputs": [
    {
     "name": "stdout",
     "output_type": "stream",
     "text": [
      "The polynomial coefficients are:\n",
      "[[ -2.00505258e+06   4.23312419e+05   9.08050592e+06  -2.08514474e+06\n",
      "   -1.73694623e+07   4.28762157e+06   1.82475060e+07  -4.78970342e+06\n",
      "   -1.14608154e+07   3.16229062e+06   4.38942640e+06  -1.25484346e+06\n",
      "   -1.00186949e+06   2.90183572e+05   1.27183831e+05  -3.57491027e+04\n",
      "   -7.74437812e+03   1.91012644e+03   1.55802528e+02  -1.55057617e+01\n",
      "   -3.90624607e+00]]\n"
     ]
    }
   ],
   "source": [
    "# Get the parameters\n",
    "A = np.dot(XT,X)\n",
    "A1 = np.matrix(A)\n",
    "A_I = A1.I\n",
    "XTX = np.dot(A_I,XT)\n",
    "W = np.dot(XTX,Y)\n",
    "# Get the Transpose because its easier to use as a row vector\n",
    "WT = W.transpose()\n",
    "print(\"The polynomial coefficients are:\")\n",
    "print(WT)\n",
    "# flatten the list.\n",
    "p = WT.tolist()[0]\n",
    "# Define the polynomial\n",
    "Poly = np.poly1d(p)\n"
   ]
  },
  {
   "cell_type": "markdown",
   "metadata": {},
   "source": [
    "### Get the new Y values"
   ]
  },
  {
   "cell_type": "code",
   "execution_count": 76,
   "metadata": {
    "collapsed": true
   },
   "outputs": [],
   "source": [
    "X = np.arange(-1,0.98, 0.001)\n",
    "\n",
    "# get the new y\n",
    "new_y = [Poly(i) for i in x ]\n",
    "# get the new y for sorted x.\n",
    "plt_y = [Poly(i) for i in X ]"
   ]
  },
  {
   "cell_type": "markdown",
   "metadata": {},
   "source": [
    "## Calculate The training MSE"
   ]
  },
  {
   "cell_type": "code",
   "execution_count": 77,
   "metadata": {},
   "outputs": [
    {
     "name": "stdout",
     "output_type": "stream",
     "text": [
      "The Training mean square error is: 6.47474592081\n"
     ]
    }
   ],
   "source": [
    "sigma = 0\n",
    "for i in range(len(new_y)):\n",
    "    sigma = sigma + (new_y[i] - y[i])**2 \n",
    "print(\"The Training mean square error is:\",sigma/len(y))"
   ]
  },
  {
   "cell_type": "markdown",
   "metadata": {},
   "source": [
    "### Read the Validation data "
   ]
  },
  {
   "cell_type": "code",
   "execution_count": 78,
   "metadata": {
    "collapsed": true
   },
   "outputs": [],
   "source": [
    "valid = pd.read_csv(\"Datasets/Dataset_1_valid.csv\",header=-1,usecols=range(2))\n",
    "cols = [\"x\",\"y\"]\n",
    "valid.columns = cols\n",
    "#data.head()\n",
    "u = valid['x']\n",
    "v = valid['y']"
   ]
  },
  {
   "cell_type": "markdown",
   "metadata": {},
   "source": [
    "## calculate the validation MSE"
   ]
  },
  {
   "cell_type": "code",
   "execution_count": 79,
   "metadata": {},
   "outputs": [
    {
     "name": "stdout",
     "output_type": "stream",
     "text": [
      "The validation mean square error is: 1418.50796451\n"
     ]
    }
   ],
   "source": [
    "new_v = [Poly(i) for i in u ]\n",
    "sigma = 0\n",
    "for i in range(len(new_v)):\n",
    "    sigma = sigma + (new_v[i] - v[i])**2 \n",
    "print(\"The validation mean square error is:\",sigma/len(v))"
   ]
  },
  {
   "cell_type": "markdown",
   "metadata": {},
   "source": [
    "#### Curve Fit with Training data "
   ]
  },
  {
   "cell_type": "code",
   "execution_count": 80,
   "metadata": {},
   "outputs": [
    {
     "data": {
      "image/png": "[encoded data removed]",
      "text/plain": [
       "<matplotlib.figure.Figure at 0x7fc0614a70b8>"
      ]
     },
     "metadata": {},
     "output_type": "display_data"
    }
   ],
   "source": [
    "plt.scatter(x,y, label=\"Training data\")\n",
    "plt.plot(X,plt_y,label=\"curve\")\n",
    "plt.title(\"Curve fit with training Data\")\n",
    "plt.xlabel(\"x\")\n",
    "plt.ylabel(\"y\")\n",
    "plt.show()"
   ]
  },
  {
   "cell_type": "markdown",
   "metadata": {},
   "source": [
    " ## TEST CURVE FIT"
   ]
  },
  {
   "cell_type": "code",
   "execution_count": 81,
   "metadata": {},
   "outputs": [
    {
     "data": {
      "text/html": [
       "<div>\n",
       "<style>\n",
       "    .dataframe thead tr:only-child th {\n",
       "        text-align: right;\n",
       "    }\n",
       "\n",
       "    .dataframe thead th {\n",
       "        text-align: left;\n",
       "    }\n",
       "\n",
       "    .dataframe tbody tr th {\n",
       "        vertical-align: top;\n",
       "    }\n",
       "</style>\n",
       "<table border=\"1\" class=\"dataframe\">\n",
       "  <thead>\n",
       "    <tr style=\"text-align: right;\">\n",
       "      <th></th>\n",
       "      <th>x</th>\n",
       "      <th>y</th>\n",
       "    </tr>\n",
       "  </thead>\n",
       "  <tbody>\n",
       "    <tr>\n",
       "      <th>0</th>\n",
       "      <td>-0.335254</td>\n",
       "      <td>-2.953401</td>\n",
       "    </tr>\n",
       "    <tr>\n",
       "      <th>1</th>\n",
       "      <td>0.122457</td>\n",
       "      <td>-5.836786</td>\n",
       "    </tr>\n",
       "    <tr>\n",
       "      <th>2</th>\n",
       "      <td>-0.819361</td>\n",
       "      <td>-9.321124</td>\n",
       "    </tr>\n",
       "    <tr>\n",
       "      <th>3</th>\n",
       "      <td>-0.860443</td>\n",
       "      <td>-3.800950</td>\n",
       "    </tr>\n",
       "    <tr>\n",
       "      <th>4</th>\n",
       "      <td>0.422628</td>\n",
       "      <td>2.100318</td>\n",
       "    </tr>\n",
       "  </tbody>\n",
       "</table>\n",
       "</div>"
      ],
      "text/plain": [
       "          x         y\n",
       "0 -0.335254 -2.953401\n",
       "1  0.122457 -5.836786\n",
       "2 -0.819361 -9.321124\n",
       "3 -0.860443 -3.800950\n",
       "4  0.422628  2.100318"
      ]
     },
     "execution_count": 81,
     "metadata": {},
     "output_type": "execute_result"
    }
   ],
   "source": [
    "test = pd.read_csv(\"Datasets/Dataset_1_test.csv\", header = -1,usecols=range(2))\n",
    "cols = [\"x\",\"y\"]\n",
    "test.columns = cols\n",
    "test.head() "
   ]
  },
  {
   "cell_type": "markdown",
   "metadata": {},
   "source": [
    "##### Get the test values and plot it"
   ]
  },
  {
   "cell_type": "code",
   "execution_count": 82,
   "metadata": {
    "collapsed": true
   },
   "outputs": [],
   "source": [
    "X = np.arange(-1,0.985, 0.001 )\n",
    "Y = [Poly(i) for i in X ]"
   ]
  },
  {
   "cell_type": "code",
   "execution_count": 83,
   "metadata": {},
   "outputs": [
    {
     "data": {
      "image/png": "[encoded data removed]",
      "text/plain": [
       "<matplotlib.figure.Figure at 0x7fc061526dd8>"
      ]
     },
     "metadata": {},
     "output_type": "display_data"
    }
   ],
   "source": [
    "plt.plot(X,Y)\n",
    "plt.scatter(test['x'],test['y'])\n",
    "plt.title(\"Curve fit with Test Data\")\n",
    "plt.xlabel(\"x\")\n",
    "plt.ylabel(\"y\")\n",
    "plt.show()"
   ]
  },
  {
   "cell_type": "markdown",
   "metadata": {},
   "source": [
    "# Model Selection (Part 2)"
   ]
  },
  {
   "cell_type": "code",
   "execution_count": 84,
   "metadata": {},
   "outputs": [
    {
     "data": {
      "image/png": "[encoded data removed]",
      "text/plain": [
       "<matplotlib.figure.Figure at 0x7fc061532e10>"
      ]
     },
     "metadata": {},
     "output_type": "display_data"
    }
   ],
   "source": [
    "data = pd.read_csv(\"Datasets/Dataset_1_train.csv\", header = -1,usecols=range(2))\n",
    "cols = [\"x\",\"y\"]\n",
    "data.columns = cols\n",
    "data.head()\n",
    "\n",
    "matr = []\n",
    "for a in x:\n",
    "    row =[]\n",
    "    for p in range(20,-1,-1): \n",
    "        row = row + [a**(p)]\n",
    "    matr = matr + [row]  \n",
    "    \n",
    "Y=[]\n",
    "for i in y:\n",
    "    Y = Y +[[i]]\n",
    "    \n",
    "X = np.array(matr) \n",
    "XT = X.transpose() \n",
    "A = np.dot(XT,X)\n",
    "A1 = np.matrix(A)\n",
    "\n",
    "\n",
    "valid = pd.read_csv(\"Datasets/Dataset_1_valid.csv\",header=-1,usecols=range(2))\n",
    "cols = [\"x\",\"y\"]\n",
    "valid.columns = cols\n",
    "#data.head()\n",
    "u = valid['x']\n",
    "v = valid['y']\n",
    "MSE_t = []\n",
    "MSE_v = []\n",
    "val = 10\n",
    "mini = sys.maxsize\n",
    "lamda = 0.0001\n",
    "while (lamda <= 1):\n",
    "    # Get the polynomial coeffs\n",
    "    Aw = np.matrix(A1+np.dot(lamda, np.identity(len(A1))))\n",
    "    Q = Aw.I\n",
    "    new_p = np.dot(np.dot(Q, XT),Y)\n",
    "    q = np.poly1d(new_p.transpose().tolist()[0])\n",
    "    \n",
    "    #Get the new Y values for training and validation.\n",
    "    yew = [q(i) for i in data['x']]\n",
    "    vew = [q(i) for i in u]\n",
    "    \n",
    "    # calculate The MSE\n",
    "    sigmat = 0\n",
    "    for i in range(len(yew)):\n",
    "        sigmat = sigmat + (yew[i] - data['y'][i])**2 \n",
    "    MSE_t = MSE_t + [sigmat/len(yew)]\n",
    "    \n",
    "    \n",
    "    sigmav = 0\n",
    "    for i in range(len(vew)):\n",
    "        sigmav = sigmav + (vew[i] - v[i])**2\n",
    "    MSE_v = MSE_v + [sigmav/len(vew)]\n",
    "    \n",
    "    if (abs(sigmav - sigmat) < mini):\n",
    "        mini = abs(sigmav - sigmat)\n",
    "        val = lamda\n",
    "        \n",
    "    lamda = lamda + 0.001\n",
    "lam = np.arange(0.0001,1, 0.001)\n",
    "plt.figure(figsize=(16, 7))\n",
    "plt.plot(lam, MSE_t, label=\"mse tarining\")\n",
    "plt.plot(lam, MSE_v, label=\"mse validation\")\n",
    "plt.title(\"mse training vs validation\")\n",
    "plt.xlabel(\"lamda\")\n",
    "plt.ylabel(\"Mse value\")\n",
    "plt.legend()\n",
    "plt.show()"
   ]
  },
  {
   "cell_type": "markdown",
   "metadata": {
    "collapsed": true
   },
   "source": [
    "#### Focusing on the area with the best relationship."
   ]
  },
  {
   "cell_type": "code",
   "execution_count": 85,
   "metadata": {},
   "outputs": [],
   "source": [
    "axis = lam[0:int(len(lam)*0.1)]\n",
    "train = MSE_t[0:int(len(lam)*0.1)]\n",
    "valid = MSE_v[0:int(len(lam)*0.1)]\n"
   ]
  },
  {
   "cell_type": "code",
   "execution_count": 86,
   "metadata": {},
   "outputs": [
    {
     "data": {
      "image/png": "[encoded data removed]",
      "text/plain": [
       "<matplotlib.figure.Figure at 0x7fc061651668>"
      ]
     },
     "metadata": {},
     "output_type": "display_data"
    }
   ],
   "source": [
    "plt.figure(figsize=(16, 7))\n",
    "plt.plot(axis, train, label=\"mse tarining\")\n",
    "plt.plot(axis, valid, label=\"mse validation\")\n",
    "plt.title(\"mse training vs validation\")\n",
    "plt.xlabel(\"lamda\")\n",
    "plt.ylabel(\"Mse value\")\n",
    "plt.legend()\n",
    "plt.show()"
   ]
  },
  {
   "cell_type": "markdown",
   "metadata": {},
   "source": [
    "## As we can see from the plot, the best lambda is around 0.2"
   ]
  },
  {
   "cell_type": "markdown",
   "metadata": {},
   "source": [
    "# Visulazation of the curve using the test data.\n"
   ]
  },
  {
   "cell_type": "code",
   "execution_count": 87,
   "metadata": {
    "collapsed": true
   },
   "outputs": [],
   "source": [
    "test = pd.read_csv(\"Datasets/Dataset_1_test.csv\", header = -1,usecols=range(2))\n",
    "cols = [\"x\",\"y\"]\n",
    "test.columns = cols\n",
    "\n",
    "Aw = np.matrix(A1+np.dot(0.02, np.identity(len(A1))))\n",
    "Q = Aw.I\n",
    "new_p = np.dot(np.dot(Q, XT),Y)\n",
    "q = np.poly1d(new_p.transpose().tolist()[0])\n",
    "\n",
    "Ax = np.arange(-1,1,0.0001)\n",
    "T = [q(i) for i in Ax]"
   ]
  },
  {
   "cell_type": "code",
   "execution_count": 88,
   "metadata": {},
   "outputs": [
    {
     "data": {
      "image/png": "[encoded data removed]",
      "text/plain": [
       "<matplotlib.figure.Figure at 0x7fc0614f33c8>"
      ]
     },
     "metadata": {},
     "output_type": "display_data"
    }
   ],
   "source": [
    "plt.scatter(test['x'],test['y'] , label='test data')\n",
    "plt.plot(Ax,T, label='curve')\n",
    "plt.title(\"lambda = 0.02\")\n",
    "plt.xlabel(\"x\")\n",
    "plt.ylabel(\"y\")\n",
    "plt.legend()\n",
    "plt.show()"
   ]
  },
  {
   "cell_type": "code",
   "execution_count": null,
   "metadata": {
    "collapsed": true
   },
   "outputs": [],
   "source": []
  }
 ],
 "metadata": {
  "kernelspec": {
   "display_name": "Python 3",
   "language": "python",
   "name": "python3"
  },
  "language_info": {
   "codemirror_mode": {
    "name": "ipython",
    "version": 3
   },
   "file_extension": ".py",
   "mimetype": "text/x-python",
   "name": "python",
   "nbconvert_exporter": "python",
   "pygments_lexer": "ipython3",
   "version": "3.6.3"
  }
 },
 "nbformat": 4,
 "nbformat_minor": 2
}
